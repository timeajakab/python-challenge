{
 "cells": [
  {
   "cell_type": "code",
<<<<<<< HEAD
   "execution_count": 38,
   "id": "2166980a",
   "metadata": {},
   "outputs": [],
   "source": [
    "#module import\n",
=======
   "execution_count": null,
   "id": "b49065f1",
   "metadata": {},
   "outputs": [],
   "source": [
    "# Analyze the financial records of the company.\n",
    "# - The total number of months included in the dataset\n",
    "# - The net total amount of \"Profit/Losses\" over the entire period\n",
    "# - The changes in \"Profit/Losses\" over the entire period, and then the average of those changes\n",
    "# - The greatest increase in profits (date and amount) over the entire period\n",
    "# - The greatest decrease in profits (date and amount) over the entire period\n",
    "# - Final script should both print the analysis to the terminal, and export a text file with the results."
   ]
  },
  {
   "cell_type": "code",
   "execution_count": 1,
   "id": "cb445bf8",
   "metadata": {},
   "outputs": [],
   "source": [
>>>>>>> b3f0e12 (add)
    "import os\n",
    "import csv"
   ]
  },
  {
   "cell_type": "code",
<<<<<<< HEAD
   "execution_count": 41,
   "id": "61c07240",
   "metadata": {},
   "outputs": [
    {
     "data": {
      "text/plain": [
       "'The greatest decrease in profits (date and amount) over the entire period'"
      ]
     },
     "execution_count": 41,
     "metadata": {},
     "output_type": "execute_result"
    }
   ],
   "source": [
    "#The total number of months included in the dataset\n",
    "#The net total amount of Profit/Losses over the entire period\n",
    "#The changes in Profit/Losses over the entire period, and then the average of those changes\n",
    "#The greatest increase in profits (date and amount) over the entire period\n",
    "#The greatest decrease in profits (date and amount) over the entire period"
   ]
  },
  {
   "cell_type": "code",
   "execution_count": 109,
   "id": "5ac3b9fd",
   "metadata": {},
   "outputs": [],
   "source": [
    "#File Path\n",
    "budget_data = os.path.join(\"Resources\", \"budget_data.csv\")\n",
    "\n",
    "\n",
    "#new file to hold values\n",
    "outputfile = os.path.join(\"Analysis.txt\")\n"
   ]
  },
  {
   "cell_type": "code",
   "execution_count": 112,
   "id": "0524af95",
   "metadata": {},
   "outputs": [],
   "source": [
    "#set variables\n",
    "totalMonths = 0 \n",
    "netTotal = 0\n",
    "monthlyChanges = []\n",
    "months = []"
   ]
  },
  {
   "cell_type": "code",
   "execution_count": 113,
   "id": "e931dcb8",
   "metadata": {},
   "outputs": [],
   "source": [
    "#read the csv file\n",
    "\n",
    "with open(budget_data,) as revenueData:\n",
    "#create a csv reader object\n",
    "\n",
    "    csvreader = csv.reader(revenueData)"
   ]
  },
  {
   "cell_type": "code",
   "execution_count": 123,
   "id": "f7ac8ebe",
   "metadata": {},
   "outputs": [
    {
     "ename": "ValueError",
     "evalue": "I/O operation on closed file.",
     "output_type": "error",
     "traceback": [
      "\u001b[0;31m---------------------------------------------------------------------------\u001b[0m",
      "\u001b[0;31mValueError\u001b[0m                                Traceback (most recent call last)",
      "\u001b[0;32m/var/folders/pt/3hhk5jfj5lsbw4cmyk2pyn840000gn/T/ipykernel_41691/1361094227.py\u001b[0m in \u001b[0;36m<module>\u001b[0;34m\u001b[0m\n\u001b[1;32m      1\u001b[0m \u001b[0;31m#header row\u001b[0m\u001b[0;34m\u001b[0m\u001b[0;34m\u001b[0m\u001b[0;34m\u001b[0m\u001b[0m\n\u001b[0;32m----> 2\u001b[0;31m \u001b[0mheader\u001b[0m \u001b[0;34m=\u001b[0m \u001b[0mnext\u001b[0m\u001b[0;34m(\u001b[0m\u001b[0mcsvreader\u001b[0m\u001b[0;34m)\u001b[0m\u001b[0;34m\u001b[0m\u001b[0;34m\u001b[0m\u001b[0m\n\u001b[0m\u001b[1;32m      3\u001b[0m \u001b[0;34m\u001b[0m\u001b[0m\n\u001b[1;32m      4\u001b[0m \u001b[0;31m#move to first row\u001b[0m\u001b[0;34m\u001b[0m\u001b[0;34m\u001b[0m\u001b[0;34m\u001b[0m\u001b[0m\n\u001b[1;32m      5\u001b[0m \u001b[0mfirstrow\u001b[0m \u001b[0;34m=\u001b[0m \u001b[0mnext\u001b[0m\u001b[0;34m(\u001b[0m\u001b[0mcsvreader\u001b[0m\u001b[0;34m)\u001b[0m\u001b[0;34m\u001b[0m\u001b[0;34m\u001b[0m\u001b[0m\n",
      "\u001b[0;31mValueError\u001b[0m: I/O operation on closed file."
=======
   "execution_count": 2,
   "id": "e0d1d799",
   "metadata": {},
   "outputs": [],
   "source": [
    "#defining the path to the csv file\n",
    "\n",
    "csvpath = os.path.join('resources', 'budget_data.csv')"
   ]
  },
  {
   "cell_type": "code",
   "execution_count": 7,
   "id": "bc92c90f",
   "metadata": {},
   "outputs": [],
   "source": [
    "#creating counters for the values needed for the analysis \n",
    "\n",
    "totalMonths = 0\n",
    "totalProfitLoss = 0\n",
    "value = 0\n",
    "change = 0"
   ]
  },
  {
   "cell_type": "code",
   "execution_count": 8,
   "id": "0cc8d8a9",
   "metadata": {},
   "outputs": [],
   "source": [
    "#holding the values in new lists\n",
    "\n",
    "dates = []\n",
    "profits = []"
   ]
  },
  {
   "cell_type": "code",
   "execution_count": 5,
   "id": "5207f1b5",
   "metadata": {},
   "outputs": [],
   "source": [
    "#acccess the csv file and separate the data\n",
    "\n",
    "with open(csvpath) as csvfile:\n",
    "    csvreader = csv.reader(csvfile, delimiter=',')\n",
    "    csv_header = next(csvreader)\n",
    "    firstRow = next(csvreader) \n",
    "\n",
    "#totalMonths = totalMonths + 1\n",
    "    \n",
    "    totalMonths += 1\n",
    "\n",
    "    totalProfitLoss += int(firstRow[1])\n",
    "    value = int(firstRow[1])\n",
    "\n",
    "    for row in csvreader:\n",
    "\n",
    "        dates.append(row[0])\n",
    "        change = int(row[1])-value\n",
    "        profits.append(change)\n",
    "        value = int(row[1])\n",
    "\n",
    "        totalMonths += 1\n",
    "        totalProfitLoss = totalProfitLoss + int(row[1])\n",
    "        avgChange = sum(profits)/len(profits)\n",
    "\n",
    "    greatestIncrease = max(profits)\n",
    "    greatestIncIndex = profits.index(greatestIncrease)\n",
    "    greatestIncDate = dates[greatestIncIndex]\n",
    "\n",
    "    greatestDecrease = min(profits)\n",
    "    greatestDecIndex = profits.index(greatestDecrease)\n",
    "    greatestDecDate = dates[greatestDecIndex]\n"
   ]
  },
  {
   "cell_type": "code",
   "execution_count": 10,
   "id": "657da49b",
   "metadata": {},
   "outputs": [
    {
     "name": "stdout",
     "output_type": "stream",
     "text": [
      "Financial Analysis\n",
      "---------------------------------------------\n",
      "Total months: 0\n",
      "Total: $0\n",
      "Average change: $-8311.11\n",
      "Greatest increase in profits: Aug-16 ($1862002)\n",
      "Greatest decrease in profits: Feb-14 ($-1825558)\n",
      "\n"
>>>>>>> b3f0e12 (add)
     ]
    }
   ],
   "source": [
<<<<<<< HEAD
    "#header row\n",
    "header = next(csvreader)\n",
    "\n",
    "#move to first row\n",
    "firstrow = next(csvreader)\n",
    "firstrow"
   ]
  },
  {
   "cell_type": "code",
   "execution_count": 120,
   "id": "187b6cf9",
   "metadata": {},
   "outputs": [
    {
     "ename": "NameError",
     "evalue": "name 'firstrow' is not defined",
     "output_type": "error",
     "traceback": [
      "\u001b[0;31m---------------------------------------------------------------------------\u001b[0m",
      "\u001b[0;31mNameError\u001b[0m                                 Traceback (most recent call last)",
      "\u001b[0;32m/var/folders/pt/3hhk5jfj5lsbw4cmyk2pyn840000gn/T/ipykernel_41691/712598091.py\u001b[0m in \u001b[0;36m<module>\u001b[0;34m\u001b[0m\n\u001b[1;32m      3\u001b[0m \u001b[0;34m\u001b[0m\u001b[0m\n\u001b[1;32m      4\u001b[0m \u001b[0;31m# add on to the total budget\u001b[0m\u001b[0;34m\u001b[0m\u001b[0;34m\u001b[0m\u001b[0;34m\u001b[0m\u001b[0m\n\u001b[0;32m----> 5\u001b[0;31m \u001b[0mnetTotal\u001b[0m \u001b[0;34m+=\u001b[0m \u001b[0mfloat\u001b[0m\u001b[0;34m(\u001b[0m\u001b[0mfirstrow\u001b[0m\u001b[0;34m[\u001b[0m\u001b[0;36m1\u001b[0m\u001b[0;34m]\u001b[0m\u001b[0;34m)\u001b[0m\u001b[0;34m\u001b[0m\u001b[0;34m\u001b[0m\u001b[0m\n\u001b[0m",
      "\u001b[0;31mNameError\u001b[0m: name 'firstrow' is not defined"
     ]
    }
   ],
   "source": [
    "#increment total month count\n",
    "totalMonths += 1\n",
    "\n",
    "# add on to the total budget\n",
    "netTotal += float(firstrow[1])\n",
    "\n",
    "#initial budget\n",
    "initialbudget = float(firstrow[1])"
   ]
  },
  {
   "cell_type": "code",
   "execution_count": 124,
   "id": "75f4d2cb",
   "metadata": {
    "scrolled": true
   },
   "outputs": [
    {
     "ename": "ValueError",
     "evalue": "I/O operation on closed file.",
     "output_type": "error",
     "traceback": [
      "\u001b[0;31m---------------------------------------------------------------------------\u001b[0m",
      "\u001b[0;31mValueError\u001b[0m                                Traceback (most recent call last)",
      "\u001b[0;32m/var/folders/pt/3hhk5jfj5lsbw4cmyk2pyn840000gn/T/ipykernel_41691/1704327925.py\u001b[0m in \u001b[0;36m<module>\u001b[0;34m\u001b[0m\n\u001b[0;32m----> 1\u001b[0;31m \u001b[0;32mfor\u001b[0m \u001b[0mrow\u001b[0m \u001b[0;32min\u001b[0m \u001b[0mcsvreader\u001b[0m\u001b[0;34m:\u001b[0m\u001b[0;34m\u001b[0m\u001b[0;34m\u001b[0m\u001b[0m\n\u001b[0m\u001b[1;32m      2\u001b[0m      \u001b[0mtotalMonths\u001b[0m \u001b[0;34m+=\u001b[0m \u001b[0;36m1\u001b[0m\u001b[0;34m\u001b[0m\u001b[0;34m\u001b[0m\u001b[0m\n",
      "\u001b[0;31mValueError\u001b[0m: I/O operation on closed file."
     ]
    }
   ],
   "source": [
    "for row in csvreader:\n",
    "     totalMonths += 1\n",
    "     netTotal += float (row[1])\n",
    "     "
=======
    "#print our analyis\n",
    "\n",
    "printoutput = (\n",
    "    f\"Financial Analysis\\n\"\n",
    "    f\"---------------------------------------------\\n\"\n",
    "    f\"Total months: {str(totalMonths)}\\n\"\n",
    "    f\"Total: ${str(totalProfitLoss)}\\n\"\n",
    "    f\"Average change: ${str(round(avgChange,2))}\\n\"\n",
    "    f\"Greatest increase in profits: {greatestIncDate} (${str(greatestIncrease)})\\n\"\n",
    "    f\"Greatest decrease in profits: {greatestDecDate} (${str(greatestDecrease)})\\n\")\n",
    "\n",
    "print (printoutput)  \n"
>>>>>>> b3f0e12 (add)
   ]
  },
  {
   "cell_type": "code",
   "execution_count": null,
<<<<<<< HEAD
   "id": "01fbc85e",
=======
   "id": "d2a9c97a",
>>>>>>> b3f0e12 (add)
   "metadata": {},
   "outputs": [],
   "source": []
  }
 ],
 "metadata": {
  "kernelspec": {
<<<<<<< HEAD
   "display_name": "PythonData",
   "language": "python",
   "name": "pythondata"
=======
   "display_name": "Python 3 (ipykernel)",
   "language": "python",
   "name": "python3"
>>>>>>> b3f0e12 (add)
  },
  "language_info": {
   "codemirror_mode": {
    "name": "ipython",
    "version": 3
   },
   "file_extension": ".py",
   "mimetype": "text/x-python",
   "name": "python",
   "nbconvert_exporter": "python",
   "pygments_lexer": "ipython3",
<<<<<<< HEAD
   "version": "3.7.7"
=======
   "version": "3.9.12"
>>>>>>> b3f0e12 (add)
  }
 },
 "nbformat": 4,
 "nbformat_minor": 5
}
