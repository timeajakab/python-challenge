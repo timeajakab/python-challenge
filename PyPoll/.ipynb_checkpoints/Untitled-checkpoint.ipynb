{
 "cells": [
  {
   "cell_type": "code",
   "execution_count": null,
   "id": "2deb4b57",
   "metadata": {},
   "outputs": [],
   "source": [
    "# - The total number of votes cast\n",
    "    # - A complete list of candidates who received votes\n",
    "    # - The percentage of votes each candidate won\n",
    "    # - The total number of votes each candidate won\n",
    "    # - The winner of the election based on popular vote\n",
    "    # - Final script should both print the analysis to the terminal, and export a text file with the results"
   ]
  },
  {
   "cell_type": "code",
   "execution_count": 1,
   "id": "46671372",
   "metadata": {},
   "outputs": [],
   "source": [
    "#import data\n",
    "import os\n",
    "import csv"
   ]
  },
  {
   "cell_type": "code",
   "execution_count": 2,
   "id": "33173932",
   "metadata": {},
   "outputs": [],
   "source": [
    "#define file path \n",
    "election_data_csv = os.path.join('Resources', 'election_data.csv')"
   ]
  },
  {
   "cell_type": "code",
   "execution_count": 3,
   "id": "41642edc",
   "metadata": {},
   "outputs": [],
   "source": [
    "#define list\n",
    "candidate = []\n",
    "vote_count = []\n",
    "vote_percent = []\n"
   ]
  },
  {
   "cell_type": "code",
   "execution_count": 4,
   "id": "6c9774b6",
   "metadata": {},
   "outputs": [],
   "source": [
    "total_votes = 0"
   ]
  },
  {
   "cell_type": "code",
   "execution_count": 5,
   "id": "cbe04086",
   "metadata": {},
   "outputs": [],
   "source": [
    "#open file\n",
    "with open(election_data_csv) as csvfile:\n",
    "    csvreader = csv.reader(csvfile, delimiter = \",\")\n",
    "\n",
    "    #skip header\n",
    "    csv_header = next(csvreader)\n",
    "\n",
    "    #loop through the rows\n",
    "    for row in csvreader:\n",
    "\n",
    "        #find total vote count\n",
    "        total_votes += 1\n",
    "\n",
    "        #add candidate name and a vote to the list\n",
    "        if row[2] not in candidate:\n",
    "            candidate.append(row[2])\n",
    "            index = candidate.index(row[2])\n",
    "            vote_count.append(1)\n",
    "\n",
    "        #add a vote count to existing candidates\n",
    "        else:\n",
    "            index = candidate.index(row[2])\n",
    "            vote_count[index] += 1\n",
    "\n",
    "    #add to vote_percent list \n",
    "    for votes in vote_count:\n",
    "        #define percentage total formula\n",
    "        percentage = (votes / total_votes)\n",
    "        #append vote_percent list \n",
    "        vote_percent.append(percentage)\n",
    "\n",
    "    #find the winning candidate by max vote count\n",
    "    winner = max(vote_count)\n",
    "    index = vote_count.index(winner)\n",
    "    winning_candidate = candidate[index]\n"
   ]
  },
  {
   "cell_type": "code",
   "execution_count": 6,
   "id": "6462c216",
   "metadata": {},
   "outputs": [
    {
     "name": "stdout",
     "output_type": "stream",
     "text": [
      "Election Results\n",
      "\n",
      "--------------------------\n",
      "\n",
      "Total Votes: 369711\n",
      "\n",
      "--------------------------\n",
      "\n",
      "Charles Casper Stockham: 23.049% (85213)\n",
      "\n",
      "Diana DeGette: 73.812% (272892)\n",
      "\n",
      "Raymon Anthony Doane: 3.139% (11606)\n",
      "\n",
      "--------------------------\n",
      "\n",
      "Winner: Diana DeGette\n",
      "\n",
      "--------------------------\n"
     ]
    },
    {
     "ename": "FileNotFoundError",
     "evalue": "[Errno 2] No such file or directory: 'analysis/election_analysis.txt'",
     "output_type": "error",
     "traceback": [
      "\u001b[0;31m---------------------------------------------------------------------------\u001b[0m",
      "\u001b[0;31mFileNotFoundError\u001b[0m                         Traceback (most recent call last)",
      "Input \u001b[0;32mIn [6]\u001b[0m, in \u001b[0;36m<cell line: 18>\u001b[0;34m()\u001b[0m\n\u001b[1;32m     15\u001b[0m election_analysis \u001b[38;5;241m=\u001b[39m os\u001b[38;5;241m.\u001b[39mpath\u001b[38;5;241m.\u001b[39mjoin(\u001b[38;5;124m'\u001b[39m\u001b[38;5;124manalysis\u001b[39m\u001b[38;5;124m'\u001b[39m, \u001b[38;5;124m'\u001b[39m\u001b[38;5;124melection_analysis.txt\u001b[39m\u001b[38;5;124m'\u001b[39m)\n\u001b[1;32m     17\u001b[0m \u001b[38;5;66;03m#export to .txt file\u001b[39;00m\n\u001b[0;32m---> 18\u001b[0m \u001b[38;5;28;01mwith\u001b[39;00m \u001b[38;5;28;43mopen\u001b[39;49m\u001b[43m(\u001b[49m\u001b[43melection_analysis\u001b[49m\u001b[43m,\u001b[49m\u001b[43m \u001b[49m\u001b[38;5;124;43m'\u001b[39;49m\u001b[38;5;124;43mw\u001b[39;49m\u001b[38;5;124;43m'\u001b[39;49m\u001b[43m)\u001b[49m \u001b[38;5;28;01mas\u001b[39;00m text:\n\u001b[1;32m     19\u001b[0m     text\u001b[38;5;241m.\u001b[39mwrite(\u001b[38;5;124m'\u001b[39m\u001b[38;5;124mElection Results\u001b[39m\u001b[38;5;124m'\u001b[39m \u001b[38;5;241m+\u001b[39m \u001b[38;5;124m'\u001b[39m\u001b[38;5;130;01m\\n\u001b[39;00m\u001b[38;5;124m'\u001b[39m)\n\u001b[1;32m     20\u001b[0m     text\u001b[38;5;241m.\u001b[39mwrite(\u001b[38;5;124m'\u001b[39m\u001b[38;5;124m--------------------------\u001b[39m\u001b[38;5;124m'\u001b[39m \u001b[38;5;241m+\u001b[39m \u001b[38;5;124m'\u001b[39m\u001b[38;5;130;01m\\n\u001b[39;00m\u001b[38;5;124m'\u001b[39m)\n",
      "\u001b[0;31mFileNotFoundError\u001b[0m: [Errno 2] No such file or directory: 'analysis/election_analysis.txt'"
     ]
    }
   ],
   "source": [
    "\n",
    "#print results \n",
    "print('Election Results\\n')\n",
    "print('--------------------------\\n')\n",
    "print(f'Total Votes: {str(total_votes)}\\n')\n",
    "print('--------------------------\\n')\n",
    "for i in range(len(candidate)):\n",
    "    print(f'{candidate[i]}: {(vote_percent[i]):.3%} ({str(vote_count[i])})\\n')\n",
    "print('--------------------------\\n')\n",
    "print(f'Winner: {winning_candidate}\\n')\n",
    "print('--------------------------')\n",
    "\n",
    "\n",
    "\n",
    "#define file path \n",
    "election_analysis = os.path.join('analysis', 'election_analysis.txt')\n",
    "\n",
    "#export to .txt file\n",
    "with open(election_analysis, 'w') as text:\n",
    "    text.write('Election Results' + '\\n')\n",
    "    text.write('--------------------------' + '\\n')\n",
    "    text.write(f'Total Votes: {str(total_votes)}' + '\\n')\n",
    "    text.write('--------------------------' + '\\n')\n",
    "    for i in range(len(candidate)):\n",
    "        text.write(f'{candidate[i]}: {(vote_percent[i]):.3%} ({str(vote_count[i])})' + '\\n')\n",
    "    text.write('--------------------------' + '\\n')\n",
    "    text.write(f'Winner: {winning_candidate}' + '\\n')\n",
    "    text.write('--------------------------' + '\\n')"
   ]
  },
  {
   "cell_type": "code",
   "execution_count": null,
   "id": "b4b55ed4",
   "metadata": {},
   "outputs": [],
   "source": []
  },
  {
   "cell_type": "code",
   "execution_count": null,
   "id": "b3062b7e",
   "metadata": {},
   "outputs": [],
   "source": []
  }
 ],
 "metadata": {
  "kernelspec": {
   "display_name": "Python 3 (ipykernel)",
   "language": "python",
   "name": "python3"
  },
  "language_info": {
   "codemirror_mode": {
    "name": "ipython",
    "version": 3
   },
   "file_extension": ".py",
   "mimetype": "text/x-python",
   "name": "python",
   "nbconvert_exporter": "python",
   "pygments_lexer": "ipython3",
   "version": "3.9.12"
  }
 },
 "nbformat": 4,
 "nbformat_minor": 5
}
